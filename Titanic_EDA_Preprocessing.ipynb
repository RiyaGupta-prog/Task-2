{
 "cells": [
  {
   "cell_type": "markdown",
   "id": "d4942387",
   "metadata": {},
   "source": [
    "# Titanic Dataset – Exploratory Data Analysis\n",
    "This notebook explores the Titanic dataset using summary statistics, visualizations, and correlation analysis."
   ]
  },
  {
   "cell_type": "code",
   "execution_count": null,
   "id": "dececfb5",
   "metadata": {},
   "outputs": [],
   "source": [
    "import pandas as pd\n",
    "import matplotlib.pyplot as plt\n",
    "import seaborn as sns\n",
    "sns.set(style='whitegrid')"
   ]
  },
  {
   "cell_type": "code",
   "execution_count": null,
   "id": "2077ca8c",
   "metadata": {},
   "outputs": [],
   "source": [
    "# Load the dataset\n",
    "df = pd.read_csv('Titanic-Dataset.csv')\n",
    "df.head()"
   ]
  },
  {
   "cell_type": "markdown",
   "id": "c295c12b",
   "metadata": {},
   "source": [
    "## Summary Statistics"
   ]
  },
  {
   "cell_type": "code",
   "execution_count": null,
   "id": "71ee3042",
   "metadata": {},
   "outputs": [],
   "source": [
    "# Display summary statistics\n",
    "df.describe()"
   ]
  },
  {
   "cell_type": "markdown",
   "id": "3e235274",
   "metadata": {},
   "source": [
    "## Histograms and Boxplots"
   ]
  },
  {
   "cell_type": "code",
   "execution_count": null,
   "id": "c7c3aa60",
   "metadata": {},
   "outputs": [],
   "source": [
    "numeric_cols = ['Age', 'Fare', 'SibSp', 'Parch']\n",
    "fig, axes = plt.subplots(nrows=4, ncols=2, figsize=(14, 16))\n",
    "\n",
    "for i, col in enumerate(numeric_cols):\n",
    "    sns.histplot(df[col].dropna(), kde=True, ax=axes[i, 0], color='skyblue')\n",
    "    axes[i, 0].set_title(f'Histogram of {col}')\n",
    "    sns.boxplot(x=df[col], ax=axes[i, 1], color='lightgreen')\n",
    "    axes[i, 1].set_title(f'Boxplot of {col}')\n",
    "\n",
    "plt.tight_layout()\n",
    "plt.show()"
   ]
  },
  {
   "cell_type": "markdown",
   "id": "a167c1c9",
   "metadata": {},
   "source": [
    "## Pairplot"
   ]
  },
  {
   "cell_type": "code",
   "execution_count": null,
   "id": "9734ec02",
   "metadata": {},
   "outputs": [],
   "source": [
    "sns.pairplot(df[['Survived', 'Pclass', 'Age', 'SibSp', 'Parch', 'Fare']].dropna(), hue='Survived', diag_kind='kde')\n",
    "plt.suptitle('Pairplot of Numeric Features by Survival', y=1.02)\n",
    "plt.show()"
   ]
  },
  {
   "cell_type": "markdown",
   "id": "23ca7978",
   "metadata": {},
   "source": [
    "## Correlation Matrix"
   ]
  },
  {
   "cell_type": "code",
   "execution_count": null,
   "id": "4d780cca",
   "metadata": {},
   "outputs": [],
   "source": [
    "plt.figure(figsize=(10, 6))\n",
    "corr = df[['Survived', 'Pclass', 'Age', 'SibSp', 'Parch', 'Fare']].corr()\n",
    "sns.heatmap(corr, annot=True, cmap='coolwarm', fmt='.2f', linewidths=0.5)\n",
    "plt.title('Correlation Matrix')\n",
    "plt.show()"
   ]
  },
  {
   "cell_type": "markdown",
   "id": "10a52149",
   "metadata": {},
   "source": [
    "## Key Observations\n",
    "- Most passengers were in class 3 and had low fare values.\n",
    "- Higher survival rate among 1st class passengers and those who paid higher fares.\n",
    "- There are outliers in Fare and Age.\n",
    "- 'Fare' and 'Pclass' show a strong negative correlation.\n",
    "- Survival is positively correlated with Fare, negatively with Pclass."
   ]
  },
  {
   "cell_type": "markdown",
   "id": "82db3a84",
   "metadata": {},
   "source": [
    "## Handling Missing Values"
   ]
  },
  {
   "cell_type": "code",
   "execution_count": null,
   "id": "4185c54e",
   "metadata": {},
   "outputs": [],
   "source": [
    "# Check missing values\n",
    "df.isnull().sum()"
   ]
  },
  {
   "cell_type": "code",
   "execution_count": null,
   "id": "20f5611e",
   "metadata": {},
   "outputs": [],
   "source": [
    "# Fill Age with median, Embarked with mode\n",
    "df['Age'].fillna(df['Age'].median(), inplace=True)\n",
    "df['Embarked'].fillna(df['Embarked'].mode()[0], inplace=True)\n",
    "\n",
    "# Drop Cabin (too many missing values)\n",
    "df.drop(columns=['Cabin'], inplace=True)\n",
    "\n",
    "# Check again\n",
    "df.isnull().sum()"
   ]
  },
  {
   "cell_type": "markdown",
   "id": "bf606886",
   "metadata": {},
   "source": [
    "## Encoding Categorical Features"
   ]
  },
  {
   "cell_type": "code",
   "execution_count": null,
   "id": "83f2352a",
   "metadata": {},
   "outputs": [],
   "source": [
    "# Convert 'Sex' and 'Embarked' to numeric\n",
    "df = pd.get_dummies(df, columns=['Sex', 'Embarked'], drop_first=True)\n",
    "df.head()"
   ]
  },
  {
   "cell_type": "markdown",
   "id": "76ac80e1",
   "metadata": {},
   "source": [
    "## Feature Scaling"
   ]
  },
  {
   "cell_type": "code",
   "execution_count": null,
   "id": "8aa33102",
   "metadata": {},
   "outputs": [],
   "source": [
    "from sklearn.preprocessing import StandardScaler\n",
    "\n",
    "scaler = StandardScaler()\n",
    "df[['Age', 'Fare']] = scaler.fit_transform(df[['Age', 'Fare']])\n",
    "df[['Age', 'Fare']].head()"
   ]
  },
  {
   "cell_type": "markdown",
   "id": "df7875ec",
   "metadata": {},
   "source": [
    "## Final Dataset Preview"
   ]
  },
  {
   "cell_type": "code",
   "execution_count": null,
   "id": "0e214534",
   "metadata": {},
   "outputs": [],
   "source": [
    "df.head()"
   ]
  }
 ],
 "metadata": {},
 "nbformat": 4,
 "nbformat_minor": 5
}
