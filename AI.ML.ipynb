{
 "cells": [
  {
   "cell_type": "markdown",
   "id": "d5f07b50",
   "metadata": {},
   "source": [
    "# AI/ML Internship Project - Titanic EDA\n",
    "Exploratory Data Analysis on Titanic dataset using Python.\n"
   ]
  },
  {
   "cell_type": "markdown",
   "id": "571b7b22",
   "metadata": {},
   "source": [
    "## 1. Import Libraries and Load Dataset"
   ]
  },
  {
   "cell_type": "code",
   "execution_count": null,
   "id": "b8ae6da5",
   "metadata": {},
   "outputs": [],
   "source": [
    "import pandas as pd\n",
    "import numpy as np\n",
    "import matplotlib.pyplot as plt\n",
    "import seaborn as sns\n",
    "%matplotlib inline\n",
    "\n",
    "df = pd.read_csv('titanic_sample.csv')\n",
    "df.head()"
   ]
  },
  {
   "cell_type": "markdown",
   "id": "39d5fa97",
   "metadata": {},
   "source": [
    "## 2. Dataset Overview"
   ]
  },
  {
   "cell_type": "code",
   "execution_count": null,
   "id": "0fe2ac7e",
   "metadata": {},
   "outputs": [],
   "source": [
    "df.info()"
   ]
  },
  {
   "cell_type": "code",
   "execution_count": null,
   "id": "370cfa2d",
   "metadata": {},
   "outputs": [],
   "source": [
    "df.describe(include='all')"
   ]
  },
  {
   "cell_type": "markdown",
   "id": "9d4e9def",
   "metadata": {},
   "source": [
    "## 3. Missing Values"
   ]
  },
  {
   "cell_type": "code",
   "execution_count": null,
   "id": "e88384aa",
   "metadata": {},
   "outputs": [],
   "source": [
    "df.isnull().sum()"
   ]
  },
  {
   "cell_type": "markdown",
   "id": "e4e3b7e7",
   "metadata": {},
   "source": [
    "## 4. Univariate Analysis"
   ]
  },
  {
   "cell_type": "code",
   "execution_count": null,
   "id": "85c5bbf9",
   "metadata": {},
   "outputs": [],
   "source": [
    "sns.countplot(x='survived', data=df)\n",
    "plt.title('Survival Count')\n",
    "plt.show()"
   ]
  },
  {
   "cell_type": "code",
   "execution_count": null,
   "id": "0167f513",
   "metadata": {},
   "outputs": [],
   "source": [
    "sns.countplot(x='pclass', data=df)\n",
    "plt.title('Passenger Class Distribution')\n",
    "plt.show()"
   ]
  },
  {
   "cell_type": "code",
   "execution_count": null,
   "id": "6778fea4",
   "metadata": {},
   "outputs": [],
   "source": [
    "sns.histplot(df['age'].dropna(), kde=True)\n",
    "plt.title('Age Distribution')\n",
    "plt.show()"
   ]
  },
  {
   "cell_type": "markdown",
   "id": "1cc07251",
   "metadata": {},
   "source": [
    "## 5. Bivariate Analysis"
   ]
  },
  {
   "cell_type": "code",
   "execution_count": null,
   "id": "6fd5ac43",
   "metadata": {},
   "outputs": [],
   "source": [
    "sns.countplot(x='sex', hue='survived', data=df)\n",
    "plt.title('Survival by Gender')\n",
    "plt.show()"
   ]
  },
  {
   "cell_type": "code",
   "execution_count": null,
   "id": "0457e1b0",
   "metadata": {},
   "outputs": [],
   "source": [
    "sns.boxplot(x='survived', y='age', data=df)\n",
    "plt.title('Age vs Survival')\n",
    "plt.show()"
   ]
  },
  {
   "cell_type": "markdown",
   "id": "5367d2d0",
   "metadata": {},
   "source": [
    "## 6. Correlation Heatmap"
   ]
  },
  {
   "cell_type": "code",
   "execution_count": null,
   "id": "9687960d",
   "metadata": {},
   "outputs": [],
   "source": [
    "plt.figure(figsize=(10,6))\n",
    "sns.heatmap(df.corr(numeric_only=True), annot=True, cmap='coolwarm')\n",
    "plt.title('Correlation Matrix')\n",
    "plt.show()"
   ]
  }
 ],
 "metadata": {},
 "nbformat": 4,
 "nbformat_minor": 5
}